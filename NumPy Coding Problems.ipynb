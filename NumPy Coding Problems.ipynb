{
 "cells": [
  {
   "cell_type": "code",
   "execution_count": 1,
   "id": "96d0a429",
   "metadata": {},
   "outputs": [
    {
     "name": "stdout",
     "output_type": "stream",
     "text": [
      "[0. 0. 0. 0. 1. 0. 0. 0. 0. 0.]\n"
     ]
    }
   ],
   "source": [
    "#Create a null vector of size 10 but the fifth value which is 1\n",
    "\n",
    "import numpy as np\n",
    "vector = np.zeros(10)\n",
    "vector[4]=1\n",
    "print(vector)"
   ]
  },
  {
   "cell_type": "code",
   "execution_count": 3,
   "id": "1084e163",
   "metadata": {},
   "outputs": [
    {
     "name": "stdout",
     "output_type": "stream",
     "text": [
      "[10 11 12 13 14 15 16 17 18 19 20 21 22 23 24 25 26 27 28 29 30 31 32 33\n",
      " 34 35 36 37 38 39 40 41 42 43 44 45 46 47 48 49]\n"
     ]
    }
   ],
   "source": [
    "#2. Create a vector with values ranging from 10 to 49.\n",
    "\n",
    "vector_2 = np.arange(10,50)\n",
    "print(vector_2)"
   ]
  },
  {
   "cell_type": "code",
   "execution_count": 4,
   "id": "47bc906b",
   "metadata": {},
   "outputs": [
    {
     "name": "stdout",
     "output_type": "stream",
     "text": [
      "[[0 1 2]\n",
      " [3 4 5]\n",
      " [6 7 8]]\n"
     ]
    }
   ],
   "source": [
    "#3. Create a 3x3 matrix with values ranging from 0 to 8\n",
    "\n",
    "vector_3 = np.arange(0,9)\n",
    "matrix = vector_3.reshape(3,3)\n",
    "print(matrix)"
   ]
  },
  {
   "cell_type": "code",
   "execution_count": 5,
   "id": "f30e9a6d",
   "metadata": {},
   "outputs": [
    {
     "name": "stdout",
     "output_type": "stream",
     "text": [
      "(array([0, 1, 4], dtype=int64),)\n"
     ]
    }
   ],
   "source": [
    "#4. Find indices of non-zero elements from [1,2,0,0,4,0]\n",
    "\n",
    "arr = [1,2,0,0,4,0]\n",
    "indices = np.nonzero(arr)\n",
    "print(indices)"
   ]
  },
  {
   "cell_type": "code",
   "execution_count": 8,
   "id": "572fbfa7",
   "metadata": {},
   "outputs": [
    {
     "name": "stdout",
     "output_type": "stream",
     "text": [
      "Maximum value : 0.9951591567343935\n",
      "Minimum value : 0.0076542035504154615\n"
     ]
    }
   ],
   "source": [
    "# 5. Create a 10x10 array with random values and find the minimum and maximum values.\n",
    "\n",
    "arr_5 = np.random.random((10,10))\n",
    "#print(arr_5)\n",
    "max_value = arr_5.max()\n",
    "min_value = arr_5.min()\n",
    "print(f\"Maximum value : {max_value}\")\n",
    "print(f\"Minimum value : {min_value}\")\n"
   ]
  },
  {
   "cell_type": "code",
   "execution_count": 14,
   "id": "0fa8b9aa",
   "metadata": {},
   "outputs": [
    {
     "name": "stdout",
     "output_type": "stream",
     "text": [
      "Mean Value : 0.528840362636973\n"
     ]
    }
   ],
   "source": [
    "#6. Create a random vector of size 30 and find the mean value.\n",
    "\n",
    "vector_6 = np.random.random(30)\n",
    "mean = vector_6.mean()\n",
    "print(f\"Mean Value : {mean}\")"
   ]
  },
  {
   "cell_type": "code",
   "execution_count": null,
   "id": "ab6739af",
   "metadata": {},
   "outputs": [],
   "source": []
  },
  {
   "cell_type": "code",
   "execution_count": null,
   "id": "d31a3ea9",
   "metadata": {},
   "outputs": [],
   "source": []
  }
 ],
 "metadata": {
  "kernelspec": {
   "display_name": "Python 3 (ipykernel)",
   "language": "python",
   "name": "python3"
  },
  "language_info": {
   "codemirror_mode": {
    "name": "ipython",
    "version": 3
   },
   "file_extension": ".py",
   "mimetype": "text/x-python",
   "name": "python",
   "nbconvert_exporter": "python",
   "pygments_lexer": "ipython3",
   "version": "3.9.12"
  }
 },
 "nbformat": 4,
 "nbformat_minor": 5
}
